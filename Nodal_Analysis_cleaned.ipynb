{
  "cells": [
    {
      "cell_type": "markdown",
      "metadata": {
        "id": "iEFO8vw3nmKj"
      },
      "source": [
        "**NODAL POINT ANALYSIS:**\n",
        "\n",
        "\n",
        "---\n",
        "\n"
      ]
    },
    {
      "cell_type": "markdown",
      "metadata": {
        "id": "nsQRd8mon9cT"
      },
      "source": [
        "**Analysis With the Bottom Hole Node**\n",
        "\n",
        "- Nodal analysis is performed on the principle\n",
        "of pressure continuity.\n",
        "- When the bottom-hole is used as a solution node in Nodal\n",
        "analysis, the inflow performance is the well inflow performance relationship (IPR) and the outflow performance\n",
        "is the tubing performance relationship (TPR)\n",
        "- The effect of Tubing diameter can be visualized with the interactive Plot"
      ]
    },
    {
      "cell_type": "markdown",
      "metadata": {
        "id": "AhJTrPjQovcA"
      },
      "source": [
        "**Well Data:**"
      ]
    },
    {
      "cell_type": "code",
      "execution_count": 1,
      "metadata": {
        "id": "UAIQsYKMn220"
      },
      "outputs": [],
      "source": [
        "# Given Data of Oil well\n",
        "Pres = 3500 # psia (above Bubble Point)\n",
        "D = 1.30 # (Default tubing ID) \n",
        "Pwellhead = 500 # psia\n",
        "J = 1 # (above bubble Point)\n",
        "GLR = 1000 # scf/stb\n",
        "WC = 0.25 # (watercut)\n",
        "oil_API = 30 # degree\n",
        "Yw = 1.05\n",
        "Yg = 0.65\n",
        "Bo = 1.2 # rb/stb\n",
        "Twellhead = 100 # degree F\n",
        "Tubing_shoe_depth = 5000 # ft\n",
        "Tbottomhole = 150 # degree F"
      ]
    },
    {
      "cell_type": "markdown",
      "metadata": {
        "id": "Od0F5GpppEdN"
      },
      "source": [
        "**Importing Required Libraries**"
      ]
    },
    {
      "cell_type": "code",
      "execution_count": 2,
      "metadata": {
        "id": "-tFqG99io81H"
      },
      "outputs": [],
      "source": [
        "# Importing libraries\n",
        "import numpy as np\n",
        "import pandas as pd\n",
        "import matplotlib.pyplot as plt\n",
        "\n",
        "# Python Slider Widget\n",
        "import ipywidgets as wg\n",
        "from IPython.display import display"
      ]
    },
    {
      "cell_type": "markdown",
      "metadata": {
        "id": "bPv9woStpdSU"
      },
      "source": [
        "**IPR MODEL USED:**\n",
        "\n",
        "The most simplest model as the reservoir pressure is above Pb\n",
        "\n",
        "Qo = J*(Pres - Pwf)\n",
        "\n",
        "**TPR MODEL USED:**\n",
        "\n",
        "Poettmann\u2013Carpenter\u2019s model which considers multiphase flow in the tubing. It uses friction factor but does not take liquid viscosity into account.\n",
        "\n",
        "Pwf = Pwh + (Rho_mix + k/Rho_mix)H/144\n",
        "\n",
        "where k = (f Qo^2 M^2) / (7.4137 10^10 D^5))\n"
      ]
    },
    {
      "cell_type": "markdown",
      "metadata": {
        "id": "AJy3qLP6tJvk"
      },
      "source": [
        "**Calculating Parameters that will not change during Iteration**"
      ]
    },
    {
      "cell_type": "code",
      "execution_count": 3,
      "metadata": {
        "id": "TQkkIWonpMYg"
      },
      "outputs": [],
      "source": [
        "# Oil specific Gravity\n",
        "Yo = 141.5/(131.5+oil_API)\n",
        "\n",
        "# Mass associated with 1 stb of oil \n",
        "GOR = GLR /(1-WC)\n",
        "WOR = WC/(1-WC)\n",
        "M = (350.17 * (Yo + 0.33 * Yw) )+ (GOR*Yg*0.0765)\n",
        "\n",
        "# WELL HEAD parameters \n",
        "Rs_head = Yg*pow(( (Pwellhead/18)* (pow(10, 0.0125*oil_API)/pow(10, 0.00091*Twellhead))), 1.2048)\n",
        "Bo_head = 0.9759 + 0.00012*pow((Rs_head*pow(Yg/Yo, 0.5) + 1.25*Twellhead), 1.2)\n",
        "Vm_head = 5.615*(Bo_head + WC * Bo) +(GOR - Rs_head)*(14.7/Pwellhead)*((Twellhead+460)/520)*(0.9318)\n",
        "\n",
        "Rho_head = M/Vm_head "
      ]
    },
    {
      "cell_type": "markdown",
      "metadata": {
        "id": "_S1ZufgKu7aI"
      },
      "source": [
        "**ITERATION**"
      ]
    },
    {
      "cell_type": "code",
      "execution_count": 4,
      "metadata": {
        "id": "oInPmUP_DCK-"
      },
      "outputs": [],
      "source": [
        "def ipr_tpr(d):\n",
        "  Ql = 500 # Assumed Initial Value \n",
        "  Aof = J*Pres # Max value of Q\n",
        "\n",
        "  # Containers for ipr, tpr pressures and flow rates\n",
        "  ipr = []\n",
        "  tpr = []\n",
        "  Q = []\n",
        "  D = d\n",
        "  while Ql<Aof:\n",
        " \n",
        "    Qo = Ql-Ql*WC\n",
        "\n",
        "    # PWf from IPR model\n",
        "    Pwf_ipr = Pres - Qo/J \n",
        "    ipr.append(Pwf_ipr)\n",
        "\n",
        "    # BOTTOM HOLE PARAMETERS\n",
        "    Rs_bottom = Yg*pow(( (Pwf_ipr/18)* (pow(10, 0.0125*oil_API)/pow(10, 0.00091*Tbottomhole))), 1.2048)\n",
        "    Bo_bottom = 0.9759 + 0.00012*pow((Rs_bottom*pow(Yg/Yo, 0.5) + 1.25*Tbottomhole), 1.2)\n",
        "    Vm_bottom = 5.615*(Bo_bottom + WC * Bo) +(GOR - Rs_bottom)*(14.7/Pwf_ipr)*((Tbottomhole+460)/520)*(0.9318)\n",
        "    Rho_bottom = M/Vm_bottom\n",
        "    \n",
        "    Rho_mixture = (Rho_head + Rho_bottom)/2\n",
        "    \n",
        "    # Inertial Force\n",
        "    rdv = 1.4737*pow(10,-5)*M*(Qo)*12/D\n",
        "    \n",
        "    # Friction Factor\n",
        "    f = 4*(pow(10, 1.444 - 2.5*np.log10(rdv)))\n",
        "    \n",
        "    # Friction term\n",
        "    K = f*Qo*Qo*M*M/(7.4137*pow(10,10)*pow(D/12,5))\n",
        "    \n",
        "    # Pwf from TPR model\n",
        "    Pwf_tpr = Pwellhead + (Rho_mixture  + K/Rho_mixture )*(Tubing_shoe_depth/144)\n",
        "    tpr.append(Pwf_tpr)\n",
        "    \n",
        "    # For Q when Error is very less than that is our operational Point \n",
        "    error = abs(Pwf_ipr - Pwf_tpr)\n",
        "    if(error<4):print(\"Operational Bottom Hole Pressure: \",(Pwf_ipr)); print(\"Operational Flow Rate: \",(Qo))\n",
        "    \n",
        "    Q.append(Qo)\n",
        "    Ql = Ql + 10 \n",
        "    \n",
        "  return ipr, tpr,Q"
      ]
    },
    {
      "cell_type": "markdown",
      "metadata": {
        "id": "6M5bnvDpvl-w"
      },
      "source": [
        "**TPR and IPR Interactive Plot**"
      ]
    },
    {
      "cell_type": "code",
      "execution_count": 5,
      "metadata": {
        "id": "CE6O4Q97yeif"
      },
      "outputs": [],
      "source": [
        "def myplot(d):\n",
        "  \n",
        "  D = d\n",
        "  ipr, tpr, Q = ipr_tpr(D)\n",
        " \n",
        "  # Plotting Curves\n",
        "  plt.style.use('default')    \n",
        "  plt.plot(Q, ipr, label='IPR')\n",
        "  plt.plot(Q, tpr, label='TPR')    \n",
        "  plt.title('Operational Point Visualization')\n",
        "\n",
        "  plt.xlabel('Qo, stb/day')\n",
        "  plt.ylabel(\"Pwf, Psia\")\n",
        "  plt.legend()\n",
        "  plt.grid()"
      ]
    },
    {
      "cell_type": "code",
      "execution_count": 8,
      "metadata": {
        "colab": {
          "base_uri": "https://localhost:8080/",
          "height": 555,
          "referenced_widgets": [
            "fee2dc8453a14d85a8c88f2a510c7c52",
            "07bbe733119944e39dcc965345ff6c63",
            "bf98c2685029426c95eb212d692e9d6a",
            "453603c1e38a4e1385f30f05ece3b045",
            "f5069d400959421c85c63c626734471a",
            "08134131dd1f41bca1460e9021315a75",
            "4429dcdb7cef4132a404672173b5e47e"
          ]
        },
        "id": "_8M7_Wd0GCN7",
        "outputId": "2ff606d2-fb11-47a3-bb9c-04b0a11bc6cf"
      },
      "outputs": [
        {
          "data": {
            "application/vnd.jupyter.widget-view+json": {
              "model_id": "df7555e4ed484b9db8a5e747c9fbbbbd",
              "version_major": 2,
              "version_minor": 0
            },
            "text/plain": [
              "interactive(children=(FloatSlider(value=1.66, description='d', max=5.0, min=1.3, step=0.2), Output()), _dom_cl\u2026"
            ]
          },
          "metadata": {},
          "output_type": "display_data"
        },
        {
          "data": {
            "text/plain": [
              "<function __main__.myplot(d)>"
            ]
          },
          "execution_count": 8,
          "metadata": {},
          "output_type": "execute_result"
        }
      ],
      "source": [
        "c_slide = wg.FloatSlider(value = 1.66, min = 1.3, max = 5, step = 0.2)\n",
        "wg.interact(myplot, d = c_slide)"
      ]
    },
    {
      "cell_type": "markdown",
      "metadata": {
        "id": "nMzr5tAKGVcz"
      },
      "source": [
        "**Conclusion-**\n",
        "\n",
        "When we are Increasing the Diameter of the tubing the Stable Flow rate increses This is happenning because the frictional pressure loss is decreasing as it is inversely proportional to the tubing diameter."
      ]
    },
    {
      "cell_type": "code",
      "execution_count": null,
      "metadata": {},
      "outputs": [],
      "source": []
    }
  ],
  "metadata": {
    "colab": {
      "name": "NodalPointAnalysis.ipynb",
      "provenance": []
    },
    "kernelspec": {
      "display_name": "Python 3 (ipykernel)",
      "language": "python",
      "name": "python3"
    },
    "language_info": {
      "codemirror_mode": {
        "name": "ipython",
        "version": 3
      },
      "file_extension": ".py",
      "mimetype": "text/x-python",
      "name": "python",
      "nbconvert_exporter": "python",
      "pygments_lexer": "ipython3",
      "version": "3.12.4"
    }
  },
  "nbformat": 4,
  "nbformat_minor": 4
}